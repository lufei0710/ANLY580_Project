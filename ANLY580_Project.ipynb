{
  "nbformat": 4,
  "nbformat_minor": 0,
  "metadata": {
    "colab": {
      "name": "ANLY580_Project.ipynb",
      "version": "0.3.2",
      "provenance": []
    },
    "kernelspec": {
      "name": "python3",
      "display_name": "Python 3"
    },
    "accelerator": "GPU"
  },
  "cells": [
    {
      "metadata": {
        "id": "XdnD35Q6_lxw",
        "colab_type": "code",
        "colab": {}
      },
      "cell_type": "code",
      "source": [
        "# Lyrics Generator"
      ],
      "execution_count": 0,
      "outputs": []
    },
    {
      "metadata": {
        "id": "R-_hrcRw_qDg",
        "colab_type": "code",
        "outputId": "18179219-f5a6-4adf-d5d7-6692cc42e60e",
        "colab": {
          "base_uri": "https://localhost:8080/",
          "height": 34
        }
      },
      "cell_type": "code",
      "source": [
        "import pandas as pd\n",
        "import numpy as np\n",
        "from sklearn.model_selection import train_test_split\n",
        "from keras.callbacks import LambdaCallback\n",
        "from keras.models import Sequential, Model\n",
        "from keras.layers import Dense, Input, GRU\n",
        "from keras.layers import LSTM\n",
        "from keras.optimizers import RMSprop\n",
        "from keras.utils.data_utils import get_file\n",
        "import random\n",
        "from keras.callbacks import ModelCheckpoint\n",
        "from keras.utils import np_utils\n",
        "from keras.layers import Dropout"
      ],
      "execution_count": 0,
      "outputs": [
        {
          "output_type": "stream",
          "text": [
            "Using TensorFlow backend.\n"
          ],
          "name": "stderr"
        }
      ]
    },
    {
      "metadata": {
        "id": "i5Ik4Zw3qFQN",
        "colab_type": "code",
        "colab": {}
      },
      "cell_type": "code",
      "source": [
        "# Extract data from zip file\n",
        "import zipfile\n",
        "with zipfile.ZipFile('lyrics.csv.zip', 'r') as zip_ref:\n",
        "    zip_ref.extractall()"
      ],
      "execution_count": 0,
      "outputs": []
    },
    {
      "metadata": {
        "id": "U4YULK5gdpQW",
        "colab_type": "code",
        "outputId": "c713663e-11b1-490f-ab7d-67064f07fc9d",
        "colab": {
          "base_uri": "https://localhost:8080/",
          "height": 204
        }
      },
      "cell_type": "code",
      "source": [
        "# Read into dataframe and drop all the NAs\n",
        "df = pd.read_csv('lyrics.csv')\n",
        "df = df.dropna()\n",
        "df.head()"
      ],
      "execution_count": 0,
      "outputs": [
        {
          "output_type": "execute_result",
          "data": {
            "text/html": [
              "<div>\n",
              "<style scoped>\n",
              "    .dataframe tbody tr th:only-of-type {\n",
              "        vertical-align: middle;\n",
              "    }\n",
              "\n",
              "    .dataframe tbody tr th {\n",
              "        vertical-align: top;\n",
              "    }\n",
              "\n",
              "    .dataframe thead th {\n",
              "        text-align: right;\n",
              "    }\n",
              "</style>\n",
              "<table border=\"1\" class=\"dataframe\">\n",
              "  <thead>\n",
              "    <tr style=\"text-align: right;\">\n",
              "      <th></th>\n",
              "      <th>index</th>\n",
              "      <th>song</th>\n",
              "      <th>year</th>\n",
              "      <th>artist</th>\n",
              "      <th>genre</th>\n",
              "      <th>lyrics</th>\n",
              "    </tr>\n",
              "  </thead>\n",
              "  <tbody>\n",
              "    <tr>\n",
              "      <th>0</th>\n",
              "      <td>0</td>\n",
              "      <td>ego-remix</td>\n",
              "      <td>2009</td>\n",
              "      <td>beyonce-knowles</td>\n",
              "      <td>Pop</td>\n",
              "      <td>Oh baby, how you doing?\\nYou know I'm gonna cu...</td>\n",
              "    </tr>\n",
              "    <tr>\n",
              "      <th>1</th>\n",
              "      <td>1</td>\n",
              "      <td>then-tell-me</td>\n",
              "      <td>2009</td>\n",
              "      <td>beyonce-knowles</td>\n",
              "      <td>Pop</td>\n",
              "      <td>playin' everything so easy,\\nit's like you see...</td>\n",
              "    </tr>\n",
              "    <tr>\n",
              "      <th>2</th>\n",
              "      <td>2</td>\n",
              "      <td>honesty</td>\n",
              "      <td>2009</td>\n",
              "      <td>beyonce-knowles</td>\n",
              "      <td>Pop</td>\n",
              "      <td>If you search\\nFor tenderness\\nIt isn't hard t...</td>\n",
              "    </tr>\n",
              "    <tr>\n",
              "      <th>3</th>\n",
              "      <td>3</td>\n",
              "      <td>you-are-my-rock</td>\n",
              "      <td>2009</td>\n",
              "      <td>beyonce-knowles</td>\n",
              "      <td>Pop</td>\n",
              "      <td>Oh oh oh I, oh oh oh I\\n[Verse 1:]\\nIf I wrote...</td>\n",
              "    </tr>\n",
              "    <tr>\n",
              "      <th>4</th>\n",
              "      <td>4</td>\n",
              "      <td>black-culture</td>\n",
              "      <td>2009</td>\n",
              "      <td>beyonce-knowles</td>\n",
              "      <td>Pop</td>\n",
              "      <td>Party the people, the people the party it's po...</td>\n",
              "    </tr>\n",
              "  </tbody>\n",
              "</table>\n",
              "</div>"
            ],
            "text/plain": [
              "   index             song  year           artist genre  \\\n",
              "0      0        ego-remix  2009  beyonce-knowles   Pop   \n",
              "1      1     then-tell-me  2009  beyonce-knowles   Pop   \n",
              "2      2          honesty  2009  beyonce-knowles   Pop   \n",
              "3      3  you-are-my-rock  2009  beyonce-knowles   Pop   \n",
              "4      4    black-culture  2009  beyonce-knowles   Pop   \n",
              "\n",
              "                                              lyrics  \n",
              "0  Oh baby, how you doing?\\nYou know I'm gonna cu...  \n",
              "1  playin' everything so easy,\\nit's like you see...  \n",
              "2  If you search\\nFor tenderness\\nIt isn't hard t...  \n",
              "3  Oh oh oh I, oh oh oh I\\n[Verse 1:]\\nIf I wrote...  \n",
              "4  Party the people, the people the party it's po...  "
            ]
          },
          "metadata": {
            "tags": []
          },
          "execution_count": 4
        }
      ]
    },
    {
      "metadata": {
        "id": "BJr41U3rg5vT",
        "colab_type": "code",
        "colab": {}
      },
      "cell_type": "code",
      "source": [
        "# Removing songs without lyrics\n",
        "pop = df.loc[df['genre'] == 'Pop']\n",
        "pop = pop.loc[pop['lyrics'].str.len() >= 100]\n",
        "pop = pop.loc[pop['lyrics'].str.len() <= 1000]\n",
        "pop = pop.head(2000)"
      ],
      "execution_count": 0,
      "outputs": []
    },
    {
      "metadata": {
        "id": "epIiWC18lZ9r",
        "colab_type": "code",
        "colab": {}
      },
      "cell_type": "code",
      "source": [
        "# concating and splitting the lyrics into tokens\n",
        "lyrics = pop['lyrics'].str.cat(sep = ' ')\n",
        "lyrics = lyrics.replace('\\n', ' \\n ')\n",
        "lyrics = lyrics.lower()\n",
        "tokens = [w for w in lyrics.split(' ') if w.strip() != '' or w == '\\n']"
      ],
      "execution_count": 0,
      "outputs": []
    },
    {
      "metadata": {
        "id": "Vexqci_LnE6Q",
        "colab_type": "code",
        "outputId": "7517e095-20ad-45a6-c9e9-e3abeefbd4a2",
        "colab": {
          "base_uri": "https://localhost:8080/",
          "height": 34
        }
      },
      "cell_type": "code",
      "source": [
        "# chekc tokenized lyrics\n",
        "lyrics[0:100], tokens[0:20]\n",
        "ts_tokens = tokens\n",
        "len(ts_tokens)"
      ],
      "execution_count": 0,
      "outputs": [
        {
          "output_type": "execute_result",
          "data": {
            "text/plain": [
              "331595"
            ]
          },
          "metadata": {
            "tags": []
          },
          "execution_count": 7
        }
      ]
    },
    {
      "metadata": {
        "id": "bMv6p3mQDmMn",
        "colab_type": "code",
        "colab": {}
      },
      "cell_type": "code",
      "source": [
        "words = set(ts_tokens)\n",
        "word_indices = dict((c, i) for i, c in enumerate(words))\n",
        "indices_word = dict((i, c) for i, c in enumerate(words))"
      ],
      "execution_count": 0,
      "outputs": []
    },
    {
      "metadata": {
        "id": "2fs6MKmdSlcA",
        "colab_type": "code",
        "colab": {}
      },
      "cell_type": "code",
      "source": [
        "# splitting tokens into sequences\n",
        "seq_leng = 6\n",
        "sentences = []\n",
        "next_words = []\n",
        "for i in range(0, len(ts_tokens) - seq_leng, 1):\n",
        "  sentences.append(ts_tokens[i:i+seq_leng])\n",
        "  next_words.append(ts_tokens[i+seq_leng])\n",
        "  \n"
      ],
      "execution_count": 0,
      "outputs": []
    },
    {
      "metadata": {
        "id": "SSJ_Vn5_YRwz",
        "colab_type": "code",
        "outputId": "f9d2d2af-2a5b-4651-b28a-084a9290e0ff",
        "colab": {
          "base_uri": "https://localhost:8080/",
          "height": 34
        }
      },
      "cell_type": "code",
      "source": [
        "sentences[0], next_words[0]"
      ],
      "execution_count": 0,
      "outputs": [
        {
          "output_type": "execute_result",
          "data": {
            "text/plain": [
              "(['if', 'you', 'search', '\\n', 'for', 'tenderness'], '\\n')"
            ]
          },
          "metadata": {
            "tags": []
          },
          "execution_count": 10
        }
      ]
    },
    {
      "metadata": {
        "id": "RKN6MMFmTjxJ",
        "colab_type": "code",
        "outputId": "6062bb7f-eea0-43cf-b134-83442d958973",
        "colab": {
          "base_uri": "https://localhost:8080/",
          "height": 34
        }
      },
      "cell_type": "code",
      "source": [
        "len(words)"
      ],
      "execution_count": 0,
      "outputs": [
        {
          "output_type": "execute_result",
          "data": {
            "text/plain": [
              "20037"
            ]
          },
          "metadata": {
            "tags": []
          },
          "execution_count": 11
        }
      ]
    },
    {
      "metadata": {
        "id": "f4KR9oMslETL",
        "colab_type": "code",
        "colab": {}
      },
      "cell_type": "code",
      "source": [
        "# Training, testing split\n",
        "sentences_train, sentences_test, words_train, words_test = train_test_split(sentences, next_words, random_state = 43)"
      ],
      "execution_count": 0,
      "outputs": []
    },
    {
      "metadata": {
        "id": "NCH8Iv69KXGn",
        "colab_type": "code",
        "colab": {}
      },
      "cell_type": "code",
      "source": [
        "# vectorize data\n",
        "def generator(sentence_list, next_word_list, batch_size):\n",
        "    index = 0\n",
        "    while True:\n",
        "        x = np.zeros((batch_size, seq_leng, len(words)), dtype=np.bool)\n",
        "        y = np.zeros((batch_size, len(words)), dtype=np.bool)\n",
        "        for i in range(batch_size):\n",
        "            for t, w in enumerate(sentence_list[index]):\n",
        "                x[i, t, word_indices[w]] = 1\n",
        "            y[i, word_indices[next_word_list[index]]] = 1\n",
        "\n",
        "            index = index + 1\n",
        "            if index == len(sentence_list):\n",
        "                index = 0\n",
        "        yield x, y"
      ],
      "execution_count": 0,
      "outputs": []
    },
    {
      "metadata": {
        "id": "JJ74R8V0qO3b",
        "colab_type": "code",
        "outputId": "e007930e-a1a8-46d4-e3f7-144b58910845",
        "colab": {
          "base_uri": "https://localhost:8080/",
          "height": 340
        }
      },
      "cell_type": "code",
      "source": [
        "# LSTM Model\n",
        "\n",
        "\"\"\"\n",
        "model = Sequential()\n",
        "model.add(LSTM((128), input_shape=(seq_leng, len(words))))\n",
        "Dense(128, activation='relu')\n",
        "model.add(Dropout(0.3))\n",
        "model.add(Dense(len(words), activation='softmax'))\n",
        "\"\"\"\n",
        "inp = Input(shape=(seq_leng, len(words)))\n",
        "x = LSTM(128, return_sequences=True)(inp)\n",
        "x = LSTM(128, dropout=0.2, recurrent_dropout=0.2)(x)\n",
        "x = Dense(128, activation='relu')(x)\n",
        "x = Dropout(0.3)(x)\n",
        "outp = Dense(len(words), activation='softmax')(x)\n",
        "\n",
        "model = Model(inputs=[inp], outputs=[outp])\n",
        "model.compile(\n",
        "        loss='categorical_crossentropy',\n",
        "        optimizer='rmsprop',\n",
        "        metrics=['accuracy']\n",
        "    )\n",
        "model.summary()"
      ],
      "execution_count": 0,
      "outputs": [
        {
          "output_type": "stream",
          "text": [
            "_________________________________________________________________\n",
            "Layer (type)                 Output Shape              Param #   \n",
            "=================================================================\n",
            "input_2 (InputLayer)         (None, 6, 20037)          0         \n",
            "_________________________________________________________________\n",
            "lstm_1 (LSTM)                (None, 6, 128)            10324992  \n",
            "_________________________________________________________________\n",
            "lstm_2 (LSTM)                (None, 128)               131584    \n",
            "_________________________________________________________________\n",
            "dense_3 (Dense)              (None, 128)               16512     \n",
            "_________________________________________________________________\n",
            "dropout_2 (Dropout)          (None, 128)               0         \n",
            "_________________________________________________________________\n",
            "dense_4 (Dense)              (None, 20037)             2584773   \n",
            "=================================================================\n",
            "Total params: 13,057,861\n",
            "Trainable params: 13,057,861\n",
            "Non-trainable params: 0\n",
            "_________________________________________________________________\n"
          ],
          "name": "stdout"
        }
      ]
    },
    {
      "metadata": {
        "id": "AWbPrnSteaIG",
        "colab_type": "code",
        "colab": {}
      },
      "cell_type": "code",
      "source": [
        "# optimizer = RMSprop(lr=0.01)\n",
        "# model.compile(loss='categorical_crossentropy', optimizer=optimizer)\n",
        "\n",
        "filepath=\"weights-improvement-{epoch:02d}-{loss:.4f}.hdf5\"\n",
        "checkpoint = ModelCheckpoint(filepath, monitor='loss', verbose=1, save_best_only=True, mode='min')\n",
        "callbacks_list = [checkpoint]"
      ],
      "execution_count": 0,
      "outputs": []
    },
    {
      "metadata": {
        "id": "vXUlD7qEme8J",
        "colab_type": "code",
        "outputId": "458d39b6-d589-47b8-ca5a-3f0225d1e788",
        "colab": {
          "base_uri": "https://localhost:8080/",
          "height": 683
        }
      },
      "cell_type": "code",
      "source": [
        "BATCH_SIZE = 128\n",
        "EPOCHS = 20\n",
        "\n",
        "model.fit_generator(generator(sentences_train, words_train, BATCH_SIZE),\n",
        "    steps_per_epoch=int(len(sentences)/BATCH_SIZE) + 1,\n",
        "    epochs=EPOCHS,\n",
        "    validation_data=generator(sentences_test, words_test, BATCH_SIZE),\n",
        "                   validation_steps=int(len(sentences_test)/BATCH_SIZE) + 1,\n",
        "                   callbacks=callbacks_list)"
      ],
      "execution_count": 0,
      "outputs": [
        {
          "output_type": "stream",
          "text": [
            "Epoch 1/20\n",
            "2591/2591 [==============================] - 397s 153ms/step - loss: 6.2401 - acc: 0.1491 - val_loss: 5.8813 - val_acc: 0.1664\n",
            "\n",
            "Epoch 00001: loss improved from inf to 6.24011, saving model to weights-improvement-01-6.2401.hdf5\n",
            "Epoch 2/20\n",
            "2591/2591 [==============================] - 395s 153ms/step - loss: 5.7998 - acc: 0.1726 - val_loss: 5.7550 - val_acc: 0.1793\n",
            "\n",
            "Epoch 00002: loss improved from 6.24011 to 5.79983, saving model to weights-improvement-02-5.7998.hdf5\n",
            "Epoch 3/20\n",
            "2591/2591 [==============================] - 396s 153ms/step - loss: 5.6747 - acc: 0.1828 - val_loss: 5.7448 - val_acc: 0.1869\n",
            "\n",
            "Epoch 00003: loss improved from 5.79983 to 5.67467, saving model to weights-improvement-03-5.6747.hdf5\n",
            "Epoch 4/20\n",
            "2591/2591 [==============================] - 396s 153ms/step - loss: 5.6405 - acc: 0.1926 - val_loss: 5.7972 - val_acc: 0.1945\n",
            "\n",
            "Epoch 00004: loss improved from 5.67467 to 5.64053, saving model to weights-improvement-04-5.6405.hdf5\n",
            "Epoch 5/20\n",
            "2591/2591 [==============================] - 396s 153ms/step - loss: 5.6331 - acc: 0.2023 - val_loss: 5.8198 - val_acc: 0.1990\n",
            "\n",
            "Epoch 00005: loss improved from 5.64053 to 5.63315, saving model to weights-improvement-05-5.6331.hdf5\n",
            "Epoch 6/20\n",
            "2591/2591 [==============================] - 397s 153ms/step - loss: 5.6068 - acc: 0.2087 - val_loss: 5.8007 - val_acc: 0.2038\n",
            "\n",
            "Epoch 00006: loss improved from 5.63315 to 5.60683, saving model to weights-improvement-06-5.6068.hdf5\n",
            "Epoch 7/20\n",
            "2591/2591 [==============================] - 396s 153ms/step - loss: 5.5256 - acc: 0.2161 - val_loss: 5.7856 - val_acc: 0.2074\n",
            "\n",
            "Epoch 00007: loss improved from 5.60683 to 5.52559, saving model to weights-improvement-07-5.5256.hdf5\n",
            "Epoch 8/20\n",
            "2591/2591 [==============================] - 396s 153ms/step - loss: 5.4034 - acc: 0.2233 - val_loss: 5.7351 - val_acc: 0.2072\n",
            "\n",
            "Epoch 00008: loss improved from 5.52559 to 5.40340, saving model to weights-improvement-08-5.4034.hdf5\n",
            "Epoch 9/20\n",
            "2591/2591 [==============================] - 397s 153ms/step - loss: 5.3696 - acc: 0.2285 - val_loss: 5.7670 - val_acc: 0.2123\n",
            "\n",
            "Epoch 00009: loss improved from 5.40340 to 5.36965, saving model to weights-improvement-09-5.3696.hdf5\n",
            "Epoch 10/20\n",
            " 973/2591 [==========>...................] - ETA: 3:36 - loss: 5.3380 - acc: 0.2337"
          ],
          "name": "stdout"
        }
      ]
    },
    {
      "metadata": {
        "id": "fhpqjSmtLgTJ",
        "colab_type": "code",
        "colab": {}
      },
      "cell_type": "code",
      "source": [
        "# load the network weights from the best result\n",
        "filename = \"weights-improvement-09-5.3684.hdf5\"\n",
        "model.load_weights(filename)\n",
        "model.compile(loss='categorical_crossentropy', optimizer='adam')\n"
      ],
      "execution_count": 0,
      "outputs": []
    },
    {
      "metadata": {
        "id": "Nfm1LpbSVEKA",
        "colab_type": "code",
        "colab": {}
      },
      "cell_type": "code",
      "source": [
        "# Generate Starting Seed from keywords\n",
        "import nltk\n",
        "bigram = list(nltk.ngrams(ts_tokens, 6))\n",
        "fdist = nltk.FreqDist(bigram)"
      ],
      "execution_count": 0,
      "outputs": []
    },
    {
      "metadata": {
        "id": "a8AoKHZ8HKhL",
        "colab_type": "code",
        "outputId": "3ec086d1-0d28-482f-e00a-9ec76e81e3a6",
        "colab": {
          "base_uri": "https://localhost:8080/",
          "height": 34
        }
      },
      "cell_type": "code",
      "source": [
        "keyword = \"sky\"\n",
        "grams = []\n",
        "for ngrams, freq in fdist.items():\n",
        "  if keyword in ngrams and ngrams[5] == '\\n':\n",
        "    grams.append(ngrams)\n",
        "\n",
        "\n",
        "pattern = list(grams[random.randint(0, len(grams))])\n",
        "pattern\n",
        "# pattern = ['you', 'are', 'my', 'sunshine', '\\n', 'my']"
      ],
      "execution_count": 0,
      "outputs": [
        {
          "output_type": "execute_result",
          "data": {
            "text/plain": [
              "['by', 'helicopter', 'to', 'the', 'sky', '\\n']"
            ]
          },
          "metadata": {
            "tags": []
          },
          "execution_count": 35
        }
      ]
    },
    {
      "metadata": {
        "id": "1LFDc-_4hU9p",
        "colab_type": "code",
        "outputId": "1b940b69-9307-4c4d-e9ba-e27e65757931",
        "colab": {
          "base_uri": "https://localhost:8080/",
          "height": 714
        }
      },
      "cell_type": "code",
      "source": [
        "# Generate texts\n",
        "\n",
        "texts = pattern\n",
        "\n",
        "for i in range(200):\n",
        "  pred = np.zeros((seq_leng, len(words)), dtype=np.bool)\n",
        "  for i, w in enumerate(pattern):\n",
        "    pred[i, word_indices[w]] = 1\n",
        "  pred = np.reshape(pred, (1, seq_leng, len(words)))\n",
        "  prediction = model.predict(pred, verbose=0)\n",
        "  index = np.argmax(prediction)\n",
        "  pattern.append(indices_word[index])\n",
        "  pattern = pattern[1:]\n",
        "  texts.append(indices_word[index])\n",
        " \n",
        "print(' '.join(texts))\n"
      ],
      "execution_count": 0,
      "outputs": [
        {
          "output_type": "stream",
          "text": [
            "by helicopter to the sky \n",
            " and and i want to be \n",
            " i want to be \n",
            " i want to be \n",
            " i want to be \n",
            " i want to be \n",
            " i want to be \n",
            " i want to be \n",
            " i want to be \n",
            " i want to be \n",
            " i want to be \n",
            " i want to be \n",
            " i want to be \n",
            " i want to be \n",
            " i want to be \n",
            " i want to be \n",
            " i want to be \n",
            " i want to be \n",
            " i want to be \n",
            " i want to be \n",
            " i want to be \n",
            " i want to be \n",
            " i want to be \n",
            " i want to be \n",
            " i want to be \n",
            " i want to be \n",
            " i want to be \n",
            " i want to be \n",
            " i want to be \n",
            " i want to be \n",
            " i want to be \n",
            " i want to be \n",
            " i want to be \n",
            " i want to be \n",
            " i want to be \n",
            " i want to be \n",
            " i want to be \n",
            " i want to be \n",
            " i want to be \n",
            " i want to be \n",
            " i want to be\n"
          ],
          "name": "stdout"
        }
      ]
    },
    {
      "metadata": {
        "id": "kpyuVnyeVbQA",
        "colab_type": "code",
        "colab": {}
      },
      "cell_type": "code",
      "source": [
        "# vectorize the starting seed"
      ],
      "execution_count": 0,
      "outputs": []
    },
    {
      "metadata": {
        "id": "lUqo4KV79sfI",
        "colab_type": "code",
        "colab": {}
      },
      "cell_type": "code",
      "source": [
        "######################################\n",
        "######################################\n",
        "# Try new model new embeddings\n",
        "dataX = [[word_indices[w] for w in s] for s in sentences]\n",
        "dataY = [word_indices[w] for w in next_words]"
      ],
      "execution_count": 0,
      "outputs": []
    },
    {
      "metadata": {
        "id": "lyd9PhkStzNh",
        "colab_type": "code",
        "outputId": "bf702173-b26c-4867-9788-7689fc4fa3f6",
        "colab": {
          "base_uri": "https://localhost:8080/",
          "height": 34
        }
      },
      "cell_type": "code",
      "source": [
        "len(dataX), len(dataY)"
      ],
      "execution_count": 0,
      "outputs": [
        {
          "output_type": "execute_result",
          "data": {
            "text/plain": [
              "(91987, 91987)"
            ]
          },
          "metadata": {
            "tags": []
          },
          "execution_count": 20
        }
      ]
    },
    {
      "metadata": {
        "id": "vnFOC8KTTB4r",
        "colab_type": "code",
        "outputId": "aabd76e8-fa8e-442e-acc1-dbd8158bdf74",
        "colab": {
          "base_uri": "https://localhost:8080/",
          "height": 34
        }
      },
      "cell_type": "code",
      "source": [
        "X = np.reshape(dataX, (len(dataX), seq_leng, 1))\n",
        "X = X / len(words)\n",
        "y = np_utils.to_categorical(dataY)\n",
        "X.shape"
      ],
      "execution_count": 0,
      "outputs": [
        {
          "output_type": "execute_result",
          "data": {
            "text/plain": [
              "(91987, 6, 1)"
            ]
          },
          "metadata": {
            "tags": []
          },
          "execution_count": 21
        }
      ]
    },
    {
      "metadata": {
        "id": "LIaekEPhUn3g",
        "colab_type": "code",
        "colab": {}
      },
      "cell_type": "code",
      "source": [
        "# Compile model\n",
        "model = Sequential()\n",
        "model.add(LSTM(256, input_shape=(X.shape[1], X.shape[2])))\n",
        "model.add(Dense(y.shape[1], activation='softmax'))\n",
        "model.compile(loss='categorical_crossentropy', optimizer='adam')\n",
        "# define the checkpoint\n",
        "filepath=\"weights-improvement-{epoch:02d}-{loss:.4f}.hdf5\"\n",
        "checkpoint = ModelCheckpoint(filepath, monitor='loss', verbose=1, save_best_only=True, mode='min')\n",
        "callbacks_list = [checkpoint]"
      ],
      "execution_count": 0,
      "outputs": []
    },
    {
      "metadata": {
        "id": "ZGX6iqsOVJye",
        "colab_type": "code",
        "colab": {}
      },
      "cell_type": "code",
      "source": [
        "model.fit(X, y, epochs=50, batch_size=128, callbacks=callbacks_list)"
      ],
      "execution_count": 0,
      "outputs": []
    },
    {
      "metadata": {
        "id": "DtB9rdW5W858",
        "colab_type": "code",
        "outputId": "a75d99d3-b308-46e2-82ae-4b4c7015a172",
        "colab": {
          "base_uri": "https://localhost:8080/",
          "height": 68
        }
      },
      "cell_type": "code",
      "source": [
        "# load weights and predict\n",
        "model.load_weights('weights-improvement-50-1.9784.hdf5')\n",
        "model.compile(loss='categorical_crossentropy', optimizer='adam')\n",
        "# pick a random seed\n",
        "start = np.random.randint(0, len(dataX)-1)\n",
        "pattern = dataX[start]\n",
        "print(\"Seed:\")\n",
        "print(' '.join([indices_word[value] for value in pattern]))\n",
        "\n",
        "pattern\n"
      ],
      "execution_count": 0,
      "outputs": [
        {
          "output_type": "stream",
          "text": [
            "Seed:\n",
            "me lord, if you think there's\n"
          ],
          "name": "stdout"
        },
        {
          "output_type": "execute_result",
          "data": {
            "text/plain": [
              "[2270, 2710, 63, 3262, 292, 5799]"
            ]
          },
          "metadata": {
            "tags": []
          },
          "execution_count": 26
        }
      ]
    },
    {
      "metadata": {
        "id": "dWDZlOikX0Pv",
        "colab_type": "code",
        "outputId": "a9414cff-7c2a-4cb4-b276-19a6f4edbc13",
        "colab": {
          "base_uri": "https://localhost:8080/",
          "height": 1819
        }
      },
      "cell_type": "code",
      "source": [
        "start = [indices_word[value] for value in pattern]\n",
        "\n",
        "for i in range(100):\n",
        "  x = np.reshape(pattern, (1, len(pattern), 1))\n",
        "  x = x / float(len(words))\n",
        "  prediction = model.predict(x, verbose=0)\n",
        "  index = np.argmax(prediction)\n",
        "  result = indices_word[index]\n",
        "  seq_in = [indices_word[value] for value in pattern]\n",
        "  pattern.append(index)\n",
        "  pattern = pattern[1:len(pattern)]\n",
        "  start.append(result)\n",
        "  \n",
        "start"
      ],
      "execution_count": 0,
      "outputs": [
        {
          "output_type": "execute_result",
          "data": {
            "text/plain": [
              "['me',\n",
              " 'lord,',\n",
              " 'if',\n",
              " 'you',\n",
              " 'think',\n",
              " \"there's\",\n",
              " 'me',\n",
              " 'lost',\n",
              " '\"yoncã©\"',\n",
              " 'ha',\n",
              " 'boy',\n",
              " '\\n',\n",
              " 'make',\n",
              " 'spit',\n",
              " '\\n',\n",
              " 'mind)',\n",
              " '\\n',\n",
              " '\\n',\n",
              " 'virgo,',\n",
              " 'aaaaaaaaa-oooo',\n",
              " '\\n',\n",
              " 'you',\n",
              " 'without',\n",
              " 'toughest',\n",
              " \"that's\",\n",
              " '\\n',\n",
              " '\\n',\n",
              " 'with',\n",
              " 'works',\n",
              " 'a',\n",
              " '\\n',\n",
              " 'si',\n",
              " '\\n',\n",
              " 'one',\n",
              " 'you',\n",
              " 'you',\n",
              " '\\n',\n",
              " 'to',\n",
              " 'goes',\n",
              " 'the',\n",
              " '\\n',\n",
              " 'on',\n",
              " 'h,',\n",
              " 'left',\n",
              " 'a',\n",
              " '\\n',\n",
              " 'into',\n",
              " '\\n',\n",
              " '\\n',\n",
              " '(*',\n",
              " '50',\n",
              " 'cent',\n",
              " '\\n',\n",
              " 'my',\n",
              " 'killing',\n",
              " '\\n',\n",
              " 'easy',\n",
              " 'you',\n",
              " 'la',\n",
              " 'you',\n",
              " 'what?',\n",
              " 'party',\n",
              " 'i',\n",
              " '\\n',\n",
              " '\\n',\n",
              " 'i',\n",
              " 'low',\n",
              " 'my',\n",
              " 'to',\n",
              " 'you',\n",
              " '\\n',\n",
              " 'boy,',\n",
              " '\\n',\n",
              " 'cat-walks,',\n",
              " '\\n',\n",
              " 'baby,',\n",
              " '\\n',\n",
              " '(oh)',\n",
              " '\\n',\n",
              " 'refuse',\n",
              " '\\n',\n",
              " '(oh)',\n",
              " '\\n',\n",
              " 'lost',\n",
              " '\\n',\n",
              " '(lost,',\n",
              " '\\n',\n",
              " '(oh)',\n",
              " '\\n',\n",
              " 'you',\n",
              " '\\n',\n",
              " '(oh)',\n",
              " '\\n',\n",
              " 'must',\n",
              " '\\n',\n",
              " '(oh)',\n",
              " '\\n',\n",
              " 'have',\n",
              " '\\n',\n",
              " '(oh)',\n",
              " '\\n',\n",
              " 'lost',\n",
              " '\\n',\n",
              " '(oh)',\n",
              " '\\n',\n",
              " 'yo']"
            ]
          },
          "metadata": {
            "tags": []
          },
          "execution_count": 27
        }
      ]
    }
  ]
}